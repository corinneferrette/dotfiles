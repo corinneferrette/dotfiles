{
  "nbformat": 4,
  "nbformat_minor": 0,
  "metadata": {
    "kernelspec": {
      "display_name": "Python 3",
      "language": "python",
      "name": "python3"
    },
    "language_info": {
      "codemirror_mode": {
        "name": "ipython",
        "version": 3
      },
      "file_extension": ".py",
      "mimetype": "text/x-python",
      "name": "python",
      "nbconvert_exporter": "python",
      "pygments_lexer": "ipython3",
      "version": "3.8.6"
    },
    "toc": {
      "base_numbering": 1,
      "nav_menu": {},
      "number_sections": false,
      "sideBar": true,
      "skip_h1_title": false,
      "title_cell": "Table of Contents",
      "title_sidebar": "Contents",
      "toc_cell": false,
      "toc_position": {},
      "toc_section_display": true,
      "toc_window_display": false
    },
    "colab": {
      "name": "Copy of mnist_classification.ipynb",
      "provenance": [],
      "collapsed_sections": [],
      "include_colab_link": true
    }
  },
  "cells": [
    {
      "cell_type": "markdown",
      "metadata": {
        "id": "view-in-github",
        "colab_type": "text"
      },
      "source": [
        "<a href=\"https://colab.research.google.com/github/corinneferrette/dotfiles/blob/master/Copy_of_mnist_classification.ipynb\" target=\"_parent\"><img src=\"https://colab.research.google.com/assets/colab-badge.svg\" alt=\"Open In Colab\"/></a>"
      ]
    },
    {
      "cell_type": "code",
      "metadata": {
        "ExecuteTime": {
          "end_time": "2021-04-29T07:22:19.145710Z",
          "start_time": "2021-04-29T07:22:14.174055Z"
        },
        "colab": {
          "base_uri": "https://localhost:8080/"
        },
        "id": "xtkc1CxBT9Gw",
        "outputId": "15b812b1-b571-4d73-997b-8fdd6612da97"
      },
      "source": [
        "from tensorflow.keras import datasets\n",
        "\n",
        "(X_train, y_train), (X_test, y_test) = datasets.mnist.load_data(path=\"mnist.npz\")"
      ],
      "execution_count": null,
      "outputs": [
        {
          "output_type": "stream",
          "name": "stdout",
          "text": [
            "Downloading data from https://storage.googleapis.com/tensorflow/tf-keras-datasets/mnist.npz\n",
            "11493376/11490434 [==============================] - 0s 0us/step\n",
            "11501568/11490434 [==============================] - 0s 0us/step\n"
          ]
        }
      ]
    },
    {
      "cell_type": "markdown",
      "metadata": {
        "id": "RrYx6QZNT9Gq"
      },
      "source": [
        "# Deep Learning week - Day 3 - Mnist classification\n",
        "\n",
        "### Exercise objectives\n",
        "- Implement a CNN architecture with convolution layers\n",
        "- Run a Neural Network on images\n",
        "\n",
        "<hr>\n",
        "<hr>\n",
        "\n",
        "Let's imagine for a moment that you are working for the postal office (and you're in 1970 / 1980). You deal everyday with a enourmous amont of letters, and you want to automate the process of reading the numbers that have been handwritten. This task, called the _Handwriting Recognition_, has been a very complex that has been handled by Bell Labs (among other) where Yann Le Cun used to work, and where such things have been developed : \n",
        "\n",
        "![Number recognition](recognition.gif)\n",
        "\n",
        "\n",
        "The idea is that you have an image (not a video: the animation is here to present what happens with different images) as an input and you try to predict the figure on the image - it corresponds to a classification task, where the output is the class (=figure) the image belongs to, from 0 to 9.\n",
        "\n",
        "This task used to be quite complex back in the time, and still is a benchmark on which a lot of people work. For this reason, the MNIST (for *Modified ou Mixed National Institute of Standards and Technology*) dataset has been created: it corresponds to digit images, from 0 to 9. \n",
        "\n",
        "You goal in this notebook is to build a Convolution Neural Network that can work on such images and predict the corresponding class of each digit image. Keep in mind that this CNN will make you classify hand-written digits, which was a very complex task till the 90's. \n",
        "\n",
        "## The data\n",
        "\n",
        "Keras provides multiple datasets within the Python package. You can load it with the following commands:"
      ]
    },
    {
      "cell_type": "markdown",
      "metadata": {
        "id": "Mfkrkh52T9Gx"
      },
      "source": [
        "❓ Question ❓ Let's look at some of the data. \n",
        "\n",
        "Select some of the values of the train set and plot them thanks to the `imshow` function from matplotlib with `cmap` set to `gray`(otherwise, the displayed colors are just some arrangement Matplotlib does, which does not exist in practice)."
      ]
    },
    {
      "cell_type": "code",
      "metadata": {
        "ExecuteTime": {
          "end_time": "2021-04-29T07:22:19.731522Z",
          "start_time": "2021-04-29T07:22:19.148711Z"
        },
        "tags": [
          "challengify"
        ],
        "colab": {
          "base_uri": "https://localhost:8080/",
          "height": 282
        },
        "id": "OsWJ8yLQT9G2",
        "outputId": "6f0af63d-1405-4c82-8d84-889b77e658b7"
      },
      "source": [
        "import matplotlib.pyplot as plt\n",
        "plt.imshow(X_train[100],cmap='gray')"
      ],
      "execution_count": null,
      "outputs": [
        {
          "output_type": "execute_result",
          "data": {
            "text/plain": [
              "<matplotlib.image.AxesImage at 0x7f4c8c848a10>"
            ]
          },
          "metadata": {},
          "execution_count": 5
        },
        {
          "output_type": "display_data",
          "data": {
            "image/png": "[encoded data removed]",
            "text/plain": [
              "<Figure size 432x288 with 1 Axes>"
            ]
          },
          "metadata": {
            "needs_background": "light"
          }
        }
      ]
    },
    {
      "cell_type": "markdown",
      "metadata": {
        "id": "iWFVNQs9T9G4"
      },
      "source": [
        "Remember that neural networks converge faster when the input data are somehow normalized? It goes similarly for input images. \n",
        "\n",
        "❓ Question ❓ As a first preprocessing step, you should normalize your data. For images, it simply implies to divide your input data by the maximal value, i.e. 255. Don't forget to do it on your train and test data.\n",
        "\n",
        "(N.B.: you can also centered your data, by substracting 0.5 but it is not mandatory). "
      ]
    },
    {
      "cell_type": "code",
      "metadata": {
        "ExecuteTime": {
          "end_time": "2021-04-29T07:22:20.043153Z",
          "start_time": "2021-04-29T07:22:19.734478Z"
        },
        "tags": [
          "challengify"
        ],
        "id": "X0fSv8G6T9G6"
      },
      "source": [
        "#On normalise et on centre\n",
        "X_train_scaled=(X_train/255)-0.5\n",
        "X_test_scaled=(X_test/255)-0.5\n"
      ],
      "execution_count": null,
      "outputs": []
    },
    {
      "cell_type": "markdown",
      "metadata": {
        "id": "uywt2H-CT9G6"
      },
      "source": [
        "❓ Question ❓ What is the shape of your images?"
      ]
    },
    {
      "cell_type": "code",
      "metadata": {
        "ExecuteTime": {
          "end_time": "2021-04-29T07:22:20.050056Z",
          "start_time": "2021-04-29T07:22:20.046331Z"
        },
        "tags": [
          "challengify"
        ],
        "colab": {
          "base_uri": "https://localhost:8080/"
        },
        "id": "lk1X7f98T9G7",
        "outputId": "b4199b29-e14d-47fa-afd8-6d926d80b4dc"
      },
      "source": [
        "X_train_scaled[0].shape"
      ],
      "execution_count": null,
      "outputs": [
        {
          "output_type": "execute_result",
          "data": {
            "text/plain": [
              "(28, 28)"
            ]
          },
          "metadata": {},
          "execution_count": 11
        }
      ]
    },
    {
      "cell_type": "markdown",
      "metadata": {
        "id": "-bT6ubhRT9G7"
      },
      "source": [
        "You see that you have 60.000 training images, all of size (28, 28). However, Keras needs images whose last dimension is the number of channels, which is missing here.\n",
        "\n",
        "❓ Question ❓ Use the `expand_dims` to add one dimension at the end of the training and test data. Then, print the shape of X_train and X_test that should respectively be (60000, 28, 28, 1) and (10000, 28, 28, 1)."
      ]
    },
    {
      "cell_type": "code",
      "metadata": {
        "ExecuteTime": {
          "end_time": "2021-04-29T07:22:20.063475Z",
          "start_time": "2021-04-29T07:22:20.052948Z"
        },
        "colab": {
          "base_uri": "https://localhost:8080/"
        },
        "id": "UV-E0r23T9G8",
        "outputId": "75d59048-1d43-44ba-d538-5c68155c2522"
      },
      "source": [
        "from tensorflow.keras.backend import expand_dims\n",
        "\n",
        "X_train_sc=expand_dims(X_train_scaled,3)\n",
        "X_test_sc=expand_dims(X_test_scaled,3)\n",
        "X_test_sc.shape"
      ],
      "execution_count": null,
      "outputs": [
        {
          "output_type": "execute_result",
          "data": {
            "text/plain": [
              "TensorShape([10000, 28, 28, 1])"
            ]
          },
          "metadata": {},
          "execution_count": 21
        }
      ]
    },
    {
      "cell_type": "markdown",
      "metadata": {
        "id": "9t2y94LzT9G8"
      },
      "source": [
        "A last thing to do to prepare your data is to convert your labels to one-hot encoded categories.\n",
        "\n",
        "❓ Question ❓ Use `to_categorical` to transform your labels. Store the results in `y_train_cat` and `y_test_cat`."
      ]
    },
    {
      "cell_type": "code",
      "metadata": {
        "ExecuteTime": {
          "end_time": "2021-04-29T07:22:20.845683Z",
          "start_time": "2021-04-29T07:22:20.840921Z"
        },
        "colab": {
          "base_uri": "https://localhost:8080/"
        },
        "id": "SgsUKgfCT9G8",
        "outputId": "6df56b46-8a54-42d1-e57a-c6bc2f9a76a2"
      },
      "source": [
        "from tensorflow.keras.utils import to_categorical\n",
        "\n",
        "y_train_cat=to_categorical(y_train)\n",
        "y_test_cat=to_categorical(y_test)\n",
        "y_test_cat"
      ],
      "execution_count": null,
      "outputs": [
        {
          "output_type": "execute_result",
          "data": {
            "text/plain": [
              "array([[0., 0., 0., ..., 1., 0., 0.],\n",
              "       [0., 0., 1., ..., 0., 0., 0.],\n",
              "       [0., 1., 0., ..., 0., 0., 0.],\n",
              "       ...,\n",
              "       [0., 0., 0., ..., 0., 0., 0.],\n",
              "       [0., 0., 0., ..., 0., 0., 0.],\n",
              "       [0., 0., 0., ..., 0., 0., 0.]], dtype=float32)"
            ]
          },
          "metadata": {},
          "execution_count": 44
        }
      ]
    },
    {
      "cell_type": "markdown",
      "metadata": {
        "id": "TbkJhd6bT9G9"
      },
      "source": [
        "The data are now ready to be used.\n",
        "\n",
        "## The Convolutional Neural Network _aka_ CNN\n",
        "\n",
        "Now, build a Convolutional Neural Network. \n",
        "\n",
        "❓ Question ❓ Based on the course, build a neural network that has:\n",
        "- a `Conv2D` layer with 8 filters, each of size (4, 4), with an input shape suitable for your task, the relu activation function, and padding='same' so as to \n",
        "- a `MaxPool2D` layer with a pool_size of (2, 2)\n",
        "- a second `Conv2D` layer with 16 filters, each of size (3, 3), and the relu activation function\n",
        "- a second `MaxPool2D` layer with a pool_size of (2, 2)\n",
        "- a `Flatten` layer\n",
        "- a first `Dense` layer with 10 neurons and the relu activation function\n",
        "- a last layer that is suited for your task\n",
        "\n",
        "In the function, do not forget to include the compilation of the model, which optimizes the `categorical_crossentropy` with the adam optimizer - and the accuracy should be among the metrics."
      ]
    },
    {
      "cell_type": "code",
      "metadata": {
        "ExecuteTime": {
          "end_time": "2021-04-29T07:22:24.419923Z",
          "start_time": "2021-04-29T07:22:24.415553Z"
        },
        "id": "S4cT3WYMT9G9"
      },
      "source": [
        "from tensorflow.keras import layers\n",
        "from tensorflow.keras import models\n",
        "\n",
        "\n",
        "def initialize_model():\n",
        "    ### First convolution & max-pooling\n",
        "    model = models.Sequential([\n",
        "    # layers.Reshape((28, 28, 1), input_shape=(28,28)), # fait plus haut\n",
        "    # layers.experimental.preprocessing.Rescaling(scale=1./255.),# fait plus haut\n",
        "    layers.Conv2D(8, (4,4), input_shape=(28,28,1),padding='same', activation=\"relu\"),\n",
        "    layers.MaxPool2D(pool_size=(2,2)),\n",
        "    \n",
        "    ### Second convolution & max-pooling\n",
        "    layers.Conv2D(16, (3), padding='same', activation=\"relu\"),\n",
        "    layers.MaxPool2D(pool_size=(2,2)),\n",
        "\n",
        "    ### Flattening\n",
        "    layers.Flatten(),\n",
        "\n",
        "    ### One fully connected\n",
        "    layers.Dense(10, activation='relu'),\n",
        "    layers.Dropout(0.3),\n",
        "\n",
        "\n",
        "    ### Last layer (let's say a classification with 10 output)\n",
        "    layers.Dense(10, activation='softmax')\n",
        "    ])\n",
        "    \n",
        "    ### Model compilation\n",
        "    model.compile(loss='categorical_crossentropy', # no need to OHE target\n",
        "              optimizer='adam',\n",
        "              metrics=['accuracy'])\n",
        "    return model\n",
        "model=initialize_model()"
      ],
      "execution_count": null,
      "outputs": []
    },
    {
      "cell_type": "markdown",
      "metadata": {
        "id": "PpqlURViT9G-"
      },
      "source": [
        "❓ Question ❓ How many trainable parameters are there in your model?\n",
        "- Compute them with `model.summary()` first\n",
        "- Recompute them manually layer per layer then"
      ]
    },
    {
      "cell_type": "code",
      "metadata": {
        "ExecuteTime": {
          "end_time": "2021-04-29T07:22:47.154385Z",
          "start_time": "2021-04-29T07:22:47.146231Z"
        },
        "tags": [
          "challengify"
        ],
        "colab": {
          "base_uri": "https://localhost:8080/"
        },
        "id": "N9foICZVT9G-",
        "outputId": "74d86399-d886-420a-b5b2-e7c7a6eb53b8"
      },
      "source": [
        "model.summary()"
      ],
      "execution_count": null,
      "outputs": [
        {
          "output_type": "stream",
          "name": "stdout",
          "text": [
            "Model: \"sequential_4\"\n",
            "_________________________________________________________________\n",
            " Layer (type)                Output Shape              Param #   \n",
            "=================================================================\n",
            " conv2d_8 (Conv2D)           (None, 28, 28, 8)         136       \n",
            "                                                                 \n",
            " max_pooling2d_8 (MaxPooling  (None, 14, 14, 8)        0         \n",
            " 2D)                                                             \n",
            "                                                                 \n",
            " conv2d_9 (Conv2D)           (None, 14, 14, 16)        1168      \n",
            "                                                                 \n",
            " max_pooling2d_9 (MaxPooling  (None, 7, 7, 16)         0         \n",
            " 2D)                                                             \n",
            "                                                                 \n",
            " flatten_4 (Flatten)         (None, 784)               0         \n",
            "                                                                 \n",
            " dense_8 (Dense)             (None, 10)                7850      \n",
            "                                                                 \n",
            " dropout_4 (Dropout)         (None, 10)                0         \n",
            "                                                                 \n",
            " dense_9 (Dense)             (None, 10)                110       \n",
            "                                                                 \n",
            "=================================================================\n",
            "Total params: 9,264\n",
            "Trainable params: 9,264\n",
            "Non-trainable params: 0\n",
            "_________________________________________________________________\n"
          ]
        }
      ]
    },
    {
      "cell_type": "code",
      "metadata": {
        "colab": {
          "base_uri": "https://localhost:8080/"
        },
        "id": "S3bZPKmHdFEH",
        "outputId": "1ce9044f-7ac0-4795-a4cf-a1940adf695c"
      },
      "source": [
        "layer1=8*(3*(3*3)+1)\n",
        "layer2=16*(*(3*3)+1)\n",
        "parameters=layer1+layer2\n",
        "layer1,layer2,parameters"
      ],
      "execution_count": null,
      "outputs": [
        {
          "output_type": "execute_result",
          "data": {
            "text/plain": [
              "(224, 448, 672)"
            ]
          },
          "metadata": {},
          "execution_count": 54
        }
      ]
    },
    {
      "cell_type": "markdown",
      "metadata": {
        "id": "C8FycXEzT9G_"
      },
      "source": [
        "❓ Question ❓ Initialize your model and fit it on the train data. \n",
        "- Do not forget to use a validation set and an early stopping criterion. \n",
        "- Limit at 5 epoch max in this challenge (just to save time)"
      ]
    },
    {
      "cell_type": "code",
      "metadata": {
        "ExecuteTime": {
          "end_time": "2021-04-29T07:22:50.611532Z",
          "start_time": "2021-04-29T07:22:50.608695Z"
        },
        "colab": {
          "base_uri": "https://localhost:8080/"
        },
        "id": "uhzcIZ3oT9G_",
        "outputId": "6cbd41b0-8db7-4b40-81b7-bca7cea79a2b"
      },
      "source": [
        "from tensorflow.keras.callbacks import EarlyStopping\n",
        "\n",
        "es = EarlyStopping(patience=5, restore_best_weights=True)\n",
        "\n",
        "history=model.fit(X_train_sc, y_train_cat, \n",
        "          epochs=5,  # Use early stop in practice\n",
        "          batch_size=32,\n",
        "          validation_split=0.3,\n",
        "          callbacks=[es], \n",
        "          verbose=1)"
      ],
      "execution_count": null,
      "outputs": [
        {
          "output_type": "stream",
          "name": "stdout",
          "text": [
            "Epoch 1/5\n",
            "1313/1313 [==============================] - 27s 21ms/step - loss: 0.4753 - accuracy: 0.8375 - val_loss: 0.1194 - val_accuracy: 0.9724\n",
            "Epoch 2/5\n",
            "1313/1313 [==============================] - 28s 21ms/step - loss: 0.4672 - accuracy: 0.8447 - val_loss: 0.1180 - val_accuracy: 0.9739\n",
            "Epoch 3/5\n",
            "1313/1313 [==============================] - 28s 21ms/step - loss: 0.4491 - accuracy: 0.8521 - val_loss: 0.1194 - val_accuracy: 0.9718\n",
            "Epoch 4/5\n",
            "1313/1313 [==============================] - 31s 24ms/step - loss: 0.4440 - accuracy: 0.8519 - val_loss: 0.1168 - val_accuracy: 0.9738\n",
            "Epoch 5/5\n",
            "1313/1313 [==============================] - 31s 24ms/step - loss: 0.4308 - accuracy: 0.8590 - val_loss: 0.1114 - val_accuracy: 0.9747\n"
          ]
        }
      ]
    },
    {
      "cell_type": "code",
      "metadata": {
        "colab": {
          "base_uri": "https://localhost:8080/",
          "height": 318
        },
        "id": "I0LzVRtWfvYF",
        "outputId": "734f67a1-22cc-4d7f-eac3-a2bd65aeb5eb"
      },
      "source": [
        "def plot_loss_accuracy(history, title=None):\n",
        "    fig, ax = plt.subplots(1,2, figsize=(20,7))\n",
        "    \n",
        "    # --- LOSS --- \n",
        "    \n",
        "    ax[0].plot(history.history['loss'])\n",
        "    ax[0].plot(history.history['val_loss'])\n",
        "    ax[0].set_title('Model loss')\n",
        "    ax[0].set_ylabel('Loss')\n",
        "    ax[0].set_xlabel('Epoch')\n",
        "    ax[0].set_ylim((0,3))\n",
        "    ax[0].legend(['Train', 'Test'], loc='best')\n",
        "    ax[0].grid(axis=\"x\",linewidth=0.5)\n",
        "    ax[0].grid(axis=\"y\",linewidth=0.5)\n",
        "    \n",
        "    # --- ACCURACY\n",
        "    \n",
        "    ax[1].plot(history.history['accuracy'])\n",
        "    ax[1].plot(history.history['val_accuracy'])\n",
        "    ax[1].set_title('Model Accuracy')\n",
        "    ax[1].set_ylabel('Accuracy')\n",
        "    ax[1].set_xlabel('Epoch')\n",
        "    ax[1].legend(['Train', 'Test'], loc='best')\n",
        "    ax[1].set_ylim((0,1))\n",
        "    ax[1].grid(axis=\"x\",linewidth=0.5)\n",
        "    ax[1].grid(axis=\"y\",linewidth=0.5)\n",
        "    \n",
        "    if title:\n",
        "        fig.suptitle(title)\n",
        "plot_loss_accuracy(history)"
      ],
      "execution_count": null,
      "outputs": [
        {
          "output_type": "display_data",
          "data": {
            "image/png": "[encoded data removed]",
            "text/plain": [
              "<Figure size 1440x504 with 2 Axes>"
            ]
          },
          "metadata": {
            "needs_background": "light"
          }
        }
      ]
    },
    {
      "cell_type": "markdown",
      "metadata": {
        "id": "lvwHjhVPT9HA"
      },
      "source": [
        "You probably see that the model converges within few epochs. The reason is that there are as many weight update as there are batches within each epoch. For instance, if you batch_size is of 32, you have 60.000/32 = 1875 updates.\n",
        "\n",
        "\n",
        "❓ Question ❓ What is your accuracy on the test set?"
      ]
    },
    {
      "cell_type": "code",
      "metadata": {
        "ExecuteTime": {
          "end_time": "2021-04-27T15:11:42.884017Z",
          "start_time": "2021-04-27T15:11:42.372506Z"
        },
        "tags": [
          "challengify"
        ],
        "colab": {
          "base_uri": "https://localhost:8080/"
        },
        "id": "sXXGmMecT9HA",
        "outputId": "f3f2cbb5-ff37-4feb-d0ec-f9fb77540dec"
      },
      "source": [
        "    # Evaluate the model on the test data and append the result in the `results` variable\n",
        "    y_pred = model.predict(X_test)\n",
        "    accuracy = model.evaluate(X_test, y_test_cat, verbose=0)[1]\n",
        "    accuracy"
      ],
      "execution_count": null,
      "outputs": [
        {
          "output_type": "execute_result",
          "data": {
            "text/plain": [
              "0.8738999962806702"
            ]
          },
          "metadata": {},
          "execution_count": 65
        }
      ]
    },
    {
      "cell_type": "markdown",
      "metadata": {
        "id": "qIKKkCa1T9HB"
      },
      "source": [
        "### You should be already impressed by your skills! You solved what was a very hard problem 30 years ago with your CNN."
      ]
    },
    {
      "cell_type": "code",
      "metadata": {
        "id": "VFUxZ67Dhgx6"
      },
      "source": [
        ""
      ],
      "execution_count": null,
      "outputs": []
    },
    {
      "cell_type": "markdown",
      "metadata": {
        "id": "sVpF0BvsT9HB"
      },
      "source": [
        "🏁 Congratulation! Don't forget to commit and push your notebook"
      ]
    }
  ]
}